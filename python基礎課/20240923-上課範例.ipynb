{
  "cells": [
    {
      "cell_type": "code",
      "execution_count": 11,
      "metadata": {
        "colab": {
          "base_uri": "https://localhost:8080/"
        },
        "id": "baycQnF6CZ2h",
        "outputId": "372ee02d-e53f-48bb-ebfd-2e9c8ba580cd"
      },
      "outputs": [
        {
          "name": "stdout",
          "output_type": "stream",
          "text": [
            "[1, 2, 3, 4, 5, 6, 7]\n",
            "[9, 1, 2, 3, 4, 5, 6]\n",
            "[1, 2, 4, 5, 6]\n",
            "[1, 3, 4, 5, 6]\n",
            "[7, 2, 3, 4, 5, 6]\n"
          ]
        }
      ],
      "source": [
        "#陣列\n",
        "array = [1,2,3,4,5,6]\n",
        "array.append(7) #追加數值在最後面\n",
        "print(array)\n",
        "\n",
        "array = [1,2,3,4,5,6]\n",
        "array.insert(0,9) #在第0位插入9\n",
        "print(array)\n",
        "\n",
        "array = [1,2,3,4,5,6]\n",
        "array.remove(3) #刪除3\n",
        "print(array)\n",
        "\n",
        "array = [1,2,3,4,5,6]\n",
        "array.pop(1) #刪除第1位的數據(不加參數就是刪除最後面一筆)\n",
        "print(array)\n",
        "\n",
        "array = [1,2,3,4,5,6]\n",
        "array[0] = 7 #修改第一位的值\n",
        "print(array)"
      ]
    },
    {
      "cell_type": "code",
      "execution_count": 24,
      "metadata": {
        "colab": {
          "base_uri": "https://localhost:8080/"
        },
        "id": "To_YvgYTPeIl",
        "outputId": "9c560b52-e145-4450-bc19-17e671a6c61b"
      },
      "outputs": [
        {
          "name": "stdout",
          "output_type": "stream",
          "text": [
            "2\n",
            "[[1, 2, 3], [4, 5, 6], [7, 8, 9], [10, 11, 12]]\n",
            "[[4, 5, 6], [7, 8, 9], [10, 11, 12]]\n",
            "[5, 6]\n",
            "b\n"
          ]
        }
      ],
      "source": [
        "# 二維陣列\n",
        "\n",
        "array = [\n",
        "    [1,2,3],\n",
        "    [4,5,6],\n",
        "    [7,8,9]\n",
        "]\n",
        "print(array[0][1]) #輸出第一列第二位\n",
        "\n",
        "array.append([10,11,12]) #追加一列\n",
        "print(array)\n",
        "\n",
        "del array[0] #刪除第一列\n",
        "print(array)\n",
        "\n",
        "del array[0][0] #刪除第一列第一位\n",
        "print(array[0])\n",
        "\n",
        "# 三維陣列\n",
        "array = [\n",
        "    [[\"a\",\"b\",\"c\"],2,3],\n",
        "    [4,5,6],\n",
        "]\n",
        "print(array[0][0][1]) #輸出第一列第一列第二位"
      ]
    },
    {
      "cell_type": "code",
      "execution_count": 10,
      "metadata": {
        "colab": {
          "base_uri": "https://localhost:8080/",
          "height": 228
        },
        "id": "PQD1YRmvJ9Y_",
        "outputId": "9491561b-57e2-4db9-cd86-77f77c5e8ce1"
      },
      "outputs": [
        {
          "name": "stdout",
          "output_type": "stream",
          "text": [
            "(1, 2, 3, 4, 5, 6)\n",
            "1\n",
            "(2, 3)\n"
          ]
        },
        {
          "ename": "TypeError",
          "evalue": "'tuple' object does not support item assignment",
          "output_type": "error",
          "traceback": [
            "\u001b[0;31m---------------------------------------------------------------------------\u001b[0m",
            "\u001b[0;31mTypeError\u001b[0m                                 Traceback (most recent call last)",
            "\u001b[0;32m<ipython-input-10-644070dcc5a0>\u001b[0m in \u001b[0;36m<cell line: 5>\u001b[0;34m()\u001b[0m\n\u001b[1;32m      3\u001b[0m \u001b[0mprint\u001b[0m\u001b[0;34m(\u001b[0m\u001b[0mthe_tuple\u001b[0m\u001b[0;34m[\u001b[0m\u001b[0;36m0\u001b[0m\u001b[0;34m]\u001b[0m\u001b[0;34m)\u001b[0m \u001b[0;31m#第零位\u001b[0m\u001b[0;34m\u001b[0m\u001b[0;34m\u001b[0m\u001b[0m\n\u001b[1;32m      4\u001b[0m \u001b[0mprint\u001b[0m\u001b[0;34m(\u001b[0m\u001b[0mthe_tuple\u001b[0m\u001b[0;34m[\u001b[0m\u001b[0;36m1\u001b[0m\u001b[0;34m:\u001b[0m\u001b[0;36m3\u001b[0m\u001b[0;34m]\u001b[0m\u001b[0;34m)\u001b[0m \u001b[0;31m#第一到第三之間(不含三)\u001b[0m\u001b[0;34m\u001b[0m\u001b[0;34m\u001b[0m\u001b[0m\n\u001b[0;32m----> 5\u001b[0;31m \u001b[0mthe_tuple\u001b[0m\u001b[0;34m[\u001b[0m\u001b[0;36m0\u001b[0m\u001b[0;34m]\u001b[0m \u001b[0;34m=\u001b[0m \u001b[0;36m9\u001b[0m \u001b[0;31m#無法修改\u001b[0m\u001b[0;34m\u001b[0m\u001b[0;34m\u001b[0m\u001b[0m\n\u001b[0m",
            "\u001b[0;31mTypeError\u001b[0m: 'tuple' object does not support item assignment"
          ]
        }
      ],
      "source": [
        "the_tuple = (1,2,3,4,5,6)\n",
        "print(the_tuple)\n",
        "print(the_tuple[0]) #第零位\n",
        "print(the_tuple[1:3]) #第一到第三之間(不含三)\n",
        "the_tuple[0] = 9 #無法修改(會報錯)"
      ]
    },
    {
      "cell_type": "code",
      "execution_count": 3,
      "metadata": {
        "colab": {
          "base_uri": "https://localhost:8080/"
        },
        "id": "Sj_A5iwFD1py",
        "outputId": "4c44d9b3-9dec-4670-e15d-1a364d3487ac"
      },
      "outputs": [
        {
          "name": "stdout",
          "output_type": "stream",
          "text": [
            "Hello\n",
            "Hi\n",
            "30\n"
          ]
        }
      ],
      "source": [
        "# 函式\n",
        "\n",
        "# 定義函式\n",
        "def Hello():\n",
        "    print(\"Hello\")\n",
        "\n",
        "#呼叫函式\n",
        "Hello()\n",
        "\n",
        "#傳入參數\n",
        "def Say(word):\n",
        "    print(word)\n",
        "\n",
        "Say(\"Hi\")\n",
        "\n",
        "def add(num,num2):\n",
        "    return num + num2 #回傳數值\n",
        "\n",
        "print(add(10,20))"
      ]
    },
    {
      "cell_type": "code",
      "execution_count": 14,
      "metadata": {
        "colab": {
          "base_uri": "https://localhost:8080/"
        },
        "id": "uo98V9z3MUEU",
        "outputId": "03098915-f35d-4680-cfdd-7b47a657cd4e"
      },
      "outputs": [
        {
          "name": "stdout",
          "output_type": "stream",
          "text": [
            "apple\n",
            "pen\n",
            "b\n"
          ]
        }
      ],
      "source": [
        "# 字典\n",
        "\n",
        "# Key(鍵):Value(值)\n",
        "dic = {1:\"apple\", 2:\"banana\", 3:\"orange\",\"four\":\"pen\",5:[\"a\", \"b\", \"c\"]}\n",
        "print(dic[1])\n",
        "print(dic[\"four\"])\n",
        "print(dic[5][1]) #輸出Key 5對應的Value陣列的索引值1"
      ]
    },
    {
      "cell_type": "code",
      "execution_count": 18,
      "metadata": {
        "colab": {
          "base_uri": "https://localhost:8080/"
        },
        "id": "-tHeZbs3OIZe",
        "outputId": "e788f405-77c7-4584-a288-9b15a169fc32"
      },
      "outputs": [
        {
          "name": "stdout",
          "output_type": "stream",
          "text": [
            "h\n",
            "e\n",
            "l\n",
            "l\n",
            "o\n",
            "1\n",
            "2\n",
            "3\n",
            "4\n",
            "5\n",
            "a\n",
            "b\n",
            "c\n",
            "1\n",
            "2\n",
            "3\n"
          ]
        }
      ],
      "source": [
        "# for迴圈補充\n",
        "\n",
        "for char in \"hello\":\n",
        "    print(char) #輸出字串的每個字\n",
        "\n",
        "for i in [1,2,3,4,5]:\n",
        "    print(i)\n",
        "\n",
        "#額外補充\n",
        "for value in {1:\"a\", 2:\"b\", 3:\"c\"}.values():\n",
        "    print(value) #輸出字典的每個Value\n",
        "\n",
        "for key in {1:\"a\", 2:\"b\", 3:\"c\"}.keys():\n",
        "    print(key) #輸出字典的每個Key"
      ]
    },
    {
      "cell_type": "code",
      "execution_count": null,
      "metadata": {
        "id": "uMghGV7bSE3d"
      },
      "outputs": [],
      "source": [
        "# 練習題-算算文字出現頻率\n",
        "# 使用者輸入一段文字，計算裡面每個字的出現次數\n",
        "# 提示:會運用到for迴圈和字典\n",
        "\n",
        "\n",
        "a = input(\"請輸入單字:\") #將使用者輸入放到a變數中\n",
        "dic = {} #定義一個字典\n",
        "for char in a: #歷遍a中的每個字\n",
        "    if not char in dic: #如果該字不在dic中\n",
        "        dic[char] = 1 #把該字設定為key，將該字對應的value + 1\n",
        "    else: #如果該字在dic中\n",
        "        dic[char] += 1 #將該字的value + 1\n",
        "\n",
        "print(dic) #輸出字典 "
      ]
    },
    {
      "cell_type": "code",
      "execution_count": 31,
      "metadata": {
        "colab": {
          "base_uri": "https://localhost:8080/"
        },
        "id": "Fyl7EC6DZLBC",
        "outputId": "ab66e33f-7f28-4d6e-a382-f50922576c12"
      },
      "outputs": [
        {
          "name": "stdout",
          "output_type": "stream",
          "text": [
            "hi\n",
            "Hello\n",
            "Helloworld\n"
          ]
        }
      ],
      "source": [
        "# 檔案讀取\n",
        "\n",
        "#open(檔案名稱, 模式, 編碼(可省略))\n",
        "#模式: r 讀取, w 覆寫, a 追加\n",
        "\n",
        "file = open(\"a.txt\", \"w\", encoding = \"utf-8\")\n",
        "file.write(\"hi\")\n",
        "file.close()\n",
        "\n",
        "file = open(\"a.txt\", \"r\", encoding = \"utf-8\")\n",
        "print(file.read())\n",
        "file.close() #需要手動關閉檔案，不方便\n",
        "\n",
        "# 執行完操作後會自動關閉檔案\n",
        "with open('a.txt', 'w', encoding = 'utf-8') as file:\n",
        "    file.write('Hello')\n",
        "\n",
        "with open('a.txt', 'r', encoding = 'utf-8') as file:\n",
        "    print(file.read())\n",
        "\n",
        "with open('a.txt', 'a', encoding = 'utf-8') as file:\n",
        "    file.write('world')\n",
        "\n",
        "with open('a.txt', 'r', encoding = 'utf-8') as file:\n",
        "    print(file.read())\n",
        "\n",
        "with open('a.txt', 'w', encoding = 'utf-8') as file:\n",
        "    file.write(input(\"輸入文字:\"))\n",
        "\n",
        "with open('a.txt', 'r', encoding = 'utf-8') as file:\n",
        "    print(file.read())"
      ]
    }
  ],
  "metadata": {
    "colab": {
      "provenance": [],
      "toc_visible": true
    },
    "kernelspec": {
      "display_name": "Python 3",
      "name": "python3"
    },
    "language_info": {
      "name": "python"
    }
  },
  "nbformat": 4,
  "nbformat_minor": 0
}
