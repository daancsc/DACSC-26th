{
  "nbformat": 4,
  "nbformat_minor": 0,
  "metadata": {
    "colab": {
      "provenance": []
    },
    "kernelspec": {
      "name": "python3",
      "display_name": "Python 3"
    },
    "language_info": {
      "name": "python"
    }
  },
  "cells": [
    {
      "cell_type": "code",
      "execution_count": null,
      "metadata": {
        "colab": {
          "base_uri": "https://localhost:8080/"
        },
        "id": "jkfu1nfh-zu6",
        "outputId": "beca3d8d-e5df-452a-c299-1345c3f4183d"
      },
      "outputs": [
        {
          "output_type": "stream",
          "name": "stdout",
          "text": [
            "Hello World\n"
          ]
        }
      ],
      "source": [
        "print(\"Hello World\")"
      ]
    },
    {
      "cell_type": "code",
      "source": [
        "print(1>=1)"
      ],
      "metadata": {
        "colab": {
          "base_uri": "https://localhost:8080/"
        },
        "id": "gtbvo1_D_SSQ",
        "outputId": "6ebcb0fa-a454-4bf7-83de-3c019f978f48"
      },
      "execution_count": null,
      "outputs": [
        {
          "output_type": "stream",
          "name": "stdout",
          "text": [
            "True\n"
          ]
        }
      ]
    },
    {
      "cell_type": "code",
      "source": [
        "a = 10\n",
        "for i in range(a,1,-1):\n",
        "  print(i)"
      ],
      "metadata": {
        "id": "WooPwZmsEYZR"
      },
      "execution_count": null,
      "outputs": []
    },
    {
      "cell_type": "code",
      "source": [
        "print(2**3)"
      ],
      "metadata": {
        "colab": {
          "base_uri": "https://localhost:8080/"
        },
        "id": "bCQOlSw-GLbA",
        "outputId": "55b0614c-5291-4e08-a8d4-8b5dc4ea1b9f"
      },
      "execution_count": null,
      "outputs": [
        {
          "output_type": "stream",
          "name": "stdout",
          "text": [
            "8\n"
          ]
        }
      ]
    },
    {
      "cell_type": "code",
      "source": [
        "a = input(\"輸入數字:\")\n",
        "print(f\"數字是:{int(a)}\")"
      ],
      "metadata": {
        "colab": {
          "base_uri": "https://localhost:8080/"
        },
        "id": "JIrogMdMG0mA",
        "outputId": "1bde9c77-16c3-4558-ba71-7190ab1cfe71"
      },
      "execution_count": null,
      "outputs": [
        {
          "output_type": "stream",
          "name": "stdout",
          "text": [
            "輸入數字:5\n",
            "數字是:5\n"
          ]
        }
      ]
    },
    {
      "cell_type": "markdown",
      "source": [
        "判斷用戶輸入為奇數或偶數\n",
        "\n",
        "舉例:\n",
        "\n",
        "  輸入:1\n",
        "  輸出:1 是奇數\n",
        "\n",
        "  輸入:2\n",
        "  輸出:2 是偶數\n",
        "\n",
        "  \n",
        "\n",
        "\n",
        "\n",
        "\n"
      ],
      "metadata": {
        "id": "aVCfBWLxH_Mo"
      }
    },
    {
      "cell_type": "code",
      "source": [
        "a = input(\"輸入數字:\")\n",
        "if int(a) % 2 == 0:\n",
        "  print(a + \"是偶數\")\n",
        "else:\n",
        "  print(a + \"是奇數\")"
      ],
      "metadata": {
        "colab": {
          "base_uri": "https://localhost:8080/"
        },
        "id": "lgNGoohPIuYX",
        "outputId": "022dfcea-f152-4080-d9bf-9472716396d3"
      },
      "execution_count": null,
      "outputs": [
        {
          "output_type": "stream",
          "name": "stdout",
          "text": [
            "輸入數字:3\n",
            "3是奇數\n"
          ]
        }
      ]
    }
  ]
}